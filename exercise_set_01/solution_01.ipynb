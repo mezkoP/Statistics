{
 "cells": [
  {
   "cell_type": "code",
   "execution_count": 44,
   "id": "42598911-567f-46e1-b33d-176f2e208446",
   "metadata": {
    "tags": []
   },
   "outputs": [
    {
     "data": {
      "text/html": [
       "<div>\n",
       "<style scoped>\n",
       "    .dataframe tbody tr th:only-of-type {\n",
       "        vertical-align: middle;\n",
       "    }\n",
       "\n",
       "    .dataframe tbody tr th {\n",
       "        vertical-align: top;\n",
       "    }\n",
       "\n",
       "    .dataframe thead th {\n",
       "        text-align: right;\n",
       "    }\n",
       "</style>\n",
       "<table border=\"1\" class=\"dataframe\">\n",
       "  <thead>\n",
       "    <tr style=\"text-align: right;\">\n",
       "      <th></th>\n",
       "      <th>Gender</th>\n",
       "      <th>Height</th>\n",
       "      <th>Weight</th>\n",
       "    </tr>\n",
       "  </thead>\n",
       "  <tbody>\n",
       "    <tr>\n",
       "      <th>0</th>\n",
       "      <td>Male</td>\n",
       "      <td>73.847017</td>\n",
       "      <td>241.893563</td>\n",
       "    </tr>\n",
       "    <tr>\n",
       "      <th>1</th>\n",
       "      <td>Male</td>\n",
       "      <td>68.781904</td>\n",
       "      <td>162.310473</td>\n",
       "    </tr>\n",
       "    <tr>\n",
       "      <th>2</th>\n",
       "      <td>Male</td>\n",
       "      <td>74.110105</td>\n",
       "      <td>212.740856</td>\n",
       "    </tr>\n",
       "    <tr>\n",
       "      <th>3</th>\n",
       "      <td>Male</td>\n",
       "      <td>71.730978</td>\n",
       "      <td>220.042470</td>\n",
       "    </tr>\n",
       "    <tr>\n",
       "      <th>4</th>\n",
       "      <td>Male</td>\n",
       "      <td>69.881796</td>\n",
       "      <td>206.349801</td>\n",
       "    </tr>\n",
       "    <tr>\n",
       "      <th>5</th>\n",
       "      <td>Male</td>\n",
       "      <td>67.253016</td>\n",
       "      <td>152.212156</td>\n",
       "    </tr>\n",
       "    <tr>\n",
       "      <th>6</th>\n",
       "      <td>Male</td>\n",
       "      <td>68.785081</td>\n",
       "      <td>183.927889</td>\n",
       "    </tr>\n",
       "    <tr>\n",
       "      <th>7</th>\n",
       "      <td>Male</td>\n",
       "      <td>68.348516</td>\n",
       "      <td>167.971110</td>\n",
       "    </tr>\n",
       "    <tr>\n",
       "      <th>8</th>\n",
       "      <td>Male</td>\n",
       "      <td>67.018950</td>\n",
       "      <td>175.929440</td>\n",
       "    </tr>\n",
       "    <tr>\n",
       "      <th>9</th>\n",
       "      <td>Male</td>\n",
       "      <td>63.456494</td>\n",
       "      <td>156.399676</td>\n",
       "    </tr>\n",
       "    <tr>\n",
       "      <th>10</th>\n",
       "      <td>Male</td>\n",
       "      <td>71.195382</td>\n",
       "      <td>186.604926</td>\n",
       "    </tr>\n",
       "    <tr>\n",
       "      <th>11</th>\n",
       "      <td>Male</td>\n",
       "      <td>71.640805</td>\n",
       "      <td>213.741169</td>\n",
       "    </tr>\n",
       "    <tr>\n",
       "      <th>12</th>\n",
       "      <td>Male</td>\n",
       "      <td>64.766329</td>\n",
       "      <td>167.127461</td>\n",
       "    </tr>\n",
       "    <tr>\n",
       "      <th>13</th>\n",
       "      <td>Male</td>\n",
       "      <td>69.283070</td>\n",
       "      <td>189.446181</td>\n",
       "    </tr>\n",
       "    <tr>\n",
       "      <th>14</th>\n",
       "      <td>Male</td>\n",
       "      <td>69.243732</td>\n",
       "      <td>186.434168</td>\n",
       "    </tr>\n",
       "    <tr>\n",
       "      <th>15</th>\n",
       "      <td>Male</td>\n",
       "      <td>67.645620</td>\n",
       "      <td>172.186930</td>\n",
       "    </tr>\n",
       "    <tr>\n",
       "      <th>16</th>\n",
       "      <td>Male</td>\n",
       "      <td>72.418317</td>\n",
       "      <td>196.028506</td>\n",
       "    </tr>\n",
       "    <tr>\n",
       "      <th>17</th>\n",
       "      <td>Male</td>\n",
       "      <td>63.974326</td>\n",
       "      <td>172.883470</td>\n",
       "    </tr>\n",
       "    <tr>\n",
       "      <th>18</th>\n",
       "      <td>Male</td>\n",
       "      <td>69.640060</td>\n",
       "      <td>185.983958</td>\n",
       "    </tr>\n",
       "    <tr>\n",
       "      <th>19</th>\n",
       "      <td>Male</td>\n",
       "      <td>67.936005</td>\n",
       "      <td>182.426648</td>\n",
       "    </tr>\n",
       "    <tr>\n",
       "      <th>20</th>\n",
       "      <td>Male</td>\n",
       "      <td>67.915050</td>\n",
       "      <td>174.115929</td>\n",
       "    </tr>\n",
       "    <tr>\n",
       "      <th>21</th>\n",
       "      <td>Male</td>\n",
       "      <td>69.439440</td>\n",
       "      <td>197.731422</td>\n",
       "    </tr>\n",
       "    <tr>\n",
       "      <th>22</th>\n",
       "      <td>Male</td>\n",
       "      <td>66.149132</td>\n",
       "      <td>149.173566</td>\n",
       "    </tr>\n",
       "    <tr>\n",
       "      <th>23</th>\n",
       "      <td>Male</td>\n",
       "      <td>75.205974</td>\n",
       "      <td>228.761781</td>\n",
       "    </tr>\n",
       "    <tr>\n",
       "      <th>24</th>\n",
       "      <td>Male</td>\n",
       "      <td>67.893196</td>\n",
       "      <td>162.006652</td>\n",
       "    </tr>\n",
       "    <tr>\n",
       "      <th>25</th>\n",
       "      <td>Male</td>\n",
       "      <td>68.144033</td>\n",
       "      <td>192.343977</td>\n",
       "    </tr>\n",
       "    <tr>\n",
       "      <th>26</th>\n",
       "      <td>Male</td>\n",
       "      <td>69.089631</td>\n",
       "      <td>184.435174</td>\n",
       "    </tr>\n",
       "    <tr>\n",
       "      <th>27</th>\n",
       "      <td>Male</td>\n",
       "      <td>72.800844</td>\n",
       "      <td>206.828189</td>\n",
       "    </tr>\n",
       "    <tr>\n",
       "      <th>28</th>\n",
       "      <td>Male</td>\n",
       "      <td>67.421242</td>\n",
       "      <td>175.213922</td>\n",
       "    </tr>\n",
       "    <tr>\n",
       "      <th>29</th>\n",
       "      <td>Male</td>\n",
       "      <td>68.496415</td>\n",
       "      <td>154.342639</td>\n",
       "    </tr>\n",
       "  </tbody>\n",
       "</table>\n",
       "</div>"
      ],
      "text/plain": [
       "   Gender     Height      Weight\n",
       "0    Male  73.847017  241.893563\n",
       "1    Male  68.781904  162.310473\n",
       "2    Male  74.110105  212.740856\n",
       "3    Male  71.730978  220.042470\n",
       "4    Male  69.881796  206.349801\n",
       "5    Male  67.253016  152.212156\n",
       "6    Male  68.785081  183.927889\n",
       "7    Male  68.348516  167.971110\n",
       "8    Male  67.018950  175.929440\n",
       "9    Male  63.456494  156.399676\n",
       "10   Male  71.195382  186.604926\n",
       "11   Male  71.640805  213.741169\n",
       "12   Male  64.766329  167.127461\n",
       "13   Male  69.283070  189.446181\n",
       "14   Male  69.243732  186.434168\n",
       "15   Male  67.645620  172.186930\n",
       "16   Male  72.418317  196.028506\n",
       "17   Male  63.974326  172.883470\n",
       "18   Male  69.640060  185.983958\n",
       "19   Male  67.936005  182.426648\n",
       "20   Male  67.915050  174.115929\n",
       "21   Male  69.439440  197.731422\n",
       "22   Male  66.149132  149.173566\n",
       "23   Male  75.205974  228.761781\n",
       "24   Male  67.893196  162.006652\n",
       "25   Male  68.144033  192.343977\n",
       "26   Male  69.089631  184.435174\n",
       "27   Male  72.800844  206.828189\n",
       "28   Male  67.421242  175.213922\n",
       "29   Male  68.496415  154.342639"
      ]
     },
     "execution_count": 44,
     "metadata": {},
     "output_type": "execute_result"
    }
   ],
   "source": [
    "# zaimportowanie biblioteki i załadowanie pliku csv, oraz wyświetlenie danych\n",
    "import pandas as pd\n",
    "df = pd.read_csv(\"wzrostwaga.csv\")\n",
    "df.head(30)"
   ]
  },
  {
   "cell_type": "code",
   "execution_count": 58,
   "id": "e27414b4-5cae-4aed-a514-077c5f330f81",
   "metadata": {
    "tags": []
   },
   "outputs": [
    {
     "data": {
      "text/plain": [
       "78.9987423463896"
      ]
     },
     "execution_count": 58,
     "metadata": {},
     "output_type": "execute_result"
    }
   ],
   "source": [
    "# wartość minimalna\n",
    "df[\"Height\"].min()\n",
    "df[\"Height\"].max()"
   ]
  },
  {
   "cell_type": "code",
   "execution_count": 54,
   "id": "07f70cee-d889-40c1-b993-086d6727ed6c",
   "metadata": {
    "tags": []
   },
   "outputs": [
    {
     "data": {
      "text/plain": [
       "64.700126712753"
      ]
     },
     "execution_count": 54,
     "metadata": {},
     "output_type": "execute_result"
    }
   ],
   "source": [
    "# wartość maksymalna\n",
    "df[\"Weight\"].min()\n",
    "df[\"Weight\"].max()"
   ]
  },
  {
   "cell_type": "code",
   "execution_count": 33,
   "id": "2f644a62-8a92-4f22-97f9-43680d0c3477",
   "metadata": {
    "tags": []
   },
   "outputs": [
    {
     "data": {
      "text/plain": [
       "161.44035683283076"
      ]
     },
     "execution_count": 33,
     "metadata": {},
     "output_type": "execute_result"
    }
   ],
   "source": [
    "# mediana\n",
    "df[\"Height\"].mean()\n",
    "df[\"Weight\"].mean()"
   ]
  },
  {
   "cell_type": "code",
   "execution_count": 35,
   "id": "2a9db0cc-72f6-4b52-a99d-2ae0ceb6358e",
   "metadata": {
    "tags": []
   },
   "outputs": [
    {
     "data": {
      "text/plain": [
       "161.21292769948298"
      ]
     },
     "execution_count": 35,
     "metadata": {},
     "output_type": "execute_result"
    }
   ],
   "source": [
    "# średnia\n",
    "df[\"Height\"].median()\n",
    "df[\"Weight\"].median()"
   ]
  },
  {
   "cell_type": "code",
   "execution_count": 93,
   "id": "162ed33d-620b-42af-9664-72da85e26125",
   "metadata": {
    "tags": []
   },
   "outputs": [],
   "source": [
    "# zamiana cali na centymetry, oraz funtow na kilogramy\n",
    "df[\"Height\"] = df[\"Height\"] * 2.54\n",
    "df[\"Weight\"] = df[\"Weight\"] / 2.204622"
   ]
  },
  {
   "cell_type": "code",
   "execution_count": 120,
   "id": "074ca910-dd6f-4df8-98d6-dbade012a748",
   "metadata": {
    "tags": []
   },
   "outputs": [
    {
     "data": {
      "text/html": [
       "<div>\n",
       "<style scoped>\n",
       "    .dataframe tbody tr th:only-of-type {\n",
       "        vertical-align: middle;\n",
       "    }\n",
       "\n",
       "    .dataframe tbody tr th {\n",
       "        vertical-align: top;\n",
       "    }\n",
       "\n",
       "    .dataframe thead th {\n",
       "        text-align: right;\n",
       "    }\n",
       "</style>\n",
       "<table border=\"1\" class=\"dataframe\">\n",
       "  <thead>\n",
       "    <tr style=\"text-align: right;\">\n",
       "      <th></th>\n",
       "      <th>Gender</th>\n",
       "      <th>Height</th>\n",
       "      <th>Weight</th>\n",
       "    </tr>\n",
       "  </thead>\n",
       "  <tbody>\n",
       "    <tr>\n",
       "      <th>0</th>\n",
       "      <td>Male</td>\n",
       "      <td>187.571423</td>\n",
       "      <td>109.721106</td>\n",
       "    </tr>\n",
       "    <tr>\n",
       "      <th>1</th>\n",
       "      <td>Male</td>\n",
       "      <td>174.706036</td>\n",
       "      <td>73.622813</td>\n",
       "    </tr>\n",
       "    <tr>\n",
       "      <th>2</th>\n",
       "      <td>Male</td>\n",
       "      <td>188.239668</td>\n",
       "      <td>96.497656</td>\n",
       "    </tr>\n",
       "    <tr>\n",
       "      <th>3</th>\n",
       "      <td>Male</td>\n",
       "      <td>182.196685</td>\n",
       "      <td>99.809614</td>\n",
       "    </tr>\n",
       "    <tr>\n",
       "      <th>4</th>\n",
       "      <td>Male</td>\n",
       "      <td>177.499761</td>\n",
       "      <td>93.598722</td>\n",
       "    </tr>\n",
       "    <tr>\n",
       "      <th>...</th>\n",
       "      <td>...</td>\n",
       "      <td>...</td>\n",
       "      <td>...</td>\n",
       "    </tr>\n",
       "    <tr>\n",
       "      <th>9995</th>\n",
       "      <td>Female</td>\n",
       "      <td>168.078536</td>\n",
       "      <td>62.041227</td>\n",
       "    </tr>\n",
       "    <tr>\n",
       "      <th>9996</th>\n",
       "      <td>Female</td>\n",
       "      <td>170.350573</td>\n",
       "      <td>77.504400</td>\n",
       "    </tr>\n",
       "    <tr>\n",
       "      <th>9997</th>\n",
       "      <td>Female</td>\n",
       "      <td>162.224700</td>\n",
       "      <td>58.275441</td>\n",
       "    </tr>\n",
       "    <tr>\n",
       "      <th>9998</th>\n",
       "      <td>Female</td>\n",
       "      <td>175.346978</td>\n",
       "      <td>74.322247</td>\n",
       "    </tr>\n",
       "    <tr>\n",
       "      <th>9999</th>\n",
       "      <td>Female</td>\n",
       "      <td>157.338385</td>\n",
       "      <td>51.550380</td>\n",
       "    </tr>\n",
       "  </tbody>\n",
       "</table>\n",
       "<p>10000 rows × 3 columns</p>\n",
       "</div>"
      ],
      "text/plain": [
       "      Gender      Height      Weight\n",
       "0       Male  187.571423  109.721106\n",
       "1       Male  174.706036   73.622813\n",
       "2       Male  188.239668   96.497656\n",
       "3       Male  182.196685   99.809614\n",
       "4       Male  177.499761   93.598722\n",
       "...      ...         ...         ...\n",
       "9995  Female  168.078536   62.041227\n",
       "9996  Female  170.350573   77.504400\n",
       "9997  Female  162.224700   58.275441\n",
       "9998  Female  175.346978   74.322247\n",
       "9999  Female  157.338385   51.550380\n",
       "\n",
       "[10000 rows x 3 columns]"
      ]
     },
     "execution_count": 120,
     "metadata": {},
     "output_type": "execute_result"
    }
   ],
   "source": [
    "import matplotlib.pyplot as plt"
   ]
  },
  {
   "cell_type": "code",
   "execution_count": 105,
   "id": "cc943075-7b82-4fa3-9935-cef30e515cac",
   "metadata": {
    "tags": []
   },
   "outputs": [
    {
     "data": {
      "text/plain": [
       "0       109.721106\n",
       "1        73.622813\n",
       "2        96.497656\n",
       "3        99.809614\n",
       "4        93.598722\n",
       "           ...    \n",
       "9995     62.041227\n",
       "9996     77.504400\n",
       "9997     58.275441\n",
       "9998     74.322247\n",
       "9999     51.550380\n",
       "Name: Weight, Length: 10000, dtype: float64"
      ]
     },
     "execution_count": 105,
     "metadata": {},
     "output_type": "execute_result"
    }
   ],
   "source": [
    "df[\"Height\"]\n",
    "df[\"Weight\"]"
   ]
  },
  {
   "cell_type": "code",
   "execution_count": 130,
   "id": "09042d97-125a-417c-b1a2-060aeaacdf47",
   "metadata": {
    "tags": []
   },
   "outputs": [
    {
     "data": {
      "text/plain": [
       "<function matplotlib.pyplot.show(close=None, block=None)>"
      ]
     },
     "execution_count": 130,
     "metadata": {},
     "output_type": "execute_result"
    },
    {
     "data": {
      "image/png": "[encoded data removed]",
      "text/plain": [
       "<Figure size 640x480 with 1 Axes>"
      ]
     },
     "metadata": {},
     "output_type": "display_data"
    }
   ],
   "source": [
    "# histogram wzrostu z dziesięcioma binami\n",
    "plt.hist(df[\"Height\"], bins=10, color=\"green\", edgecolor=\"black\")\n",
    "plt.title(\"Histogram wzrostu w centymetrach\")\n",
    "plt.xlabel(\"Wzrost\")\n",
    "plt.ylabel(\"Liczba osób\")\n",
    "plt.show"
   ]
  },
  {
   "cell_type": "code",
   "execution_count": 144,
   "id": "090b9c7d-d5cf-4f94-8928-90e563737fd5",
   "metadata": {
    "tags": []
   },
   "outputs": [
    {
     "data": {
      "text/plain": [
       "<function matplotlib.pyplot.show(close=None, block=None)>"
      ]
     },
     "execution_count": 144,
     "metadata": {},
     "output_type": "execute_result"
    },
    {
     "data": {
      "image/png": "[encoded data removed]",
      "text/plain": [
       "<Figure size 640x480 with 1 Axes>"
      ]
     },
     "metadata": {},
     "output_type": "display_data"
    }
   ],
   "source": [
    "# histogram wzrostu z pięcioma binami\n",
    "plt.hist(df[\"Height\"], bins=5, color=\"blue\", edgecolor=\"black\")\n",
    "plt.title(\"Histogram wzrostu w centymetrach\")\n",
    "plt.xlabel(\"Wzrost\")\n",
    "plt.ylabel(\"Liczba osób\")\n",
    "plt.show"
   ]
  },
  {
   "cell_type": "code",
   "execution_count": 136,
   "id": "9e822aec-918b-47cb-bc10-96478e1fac87",
   "metadata": {
    "tags": []
   },
   "outputs": [
    {
     "data": {
      "text/plain": [
       "<function matplotlib.pyplot.show(close=None, block=None)>"
      ]
     },
     "execution_count": 136,
     "metadata": {},
     "output_type": "execute_result"
    },
    {
     "data": {
      "image/png": "[encoded data removed]",
      "text/plain": [
       "<Figure size 640x480 with 1 Axes>"
      ]
     },
     "metadata": {},
     "output_type": "display_data"
    }
   ],
   "source": [
    "# histogram wagi z dziesięcioma binami\n",
    "plt.hist(df[\"Weight\"], bins=10, color=\"green\", edgecolor=\"black\")\n",
    "plt.title(\"Histogram wagi w kilogramach\")\n",
    "plt.xlabel(\"Waga\")\n",
    "plt.ylabel(\"Liczba osób\")\n",
    "plt.show"
   ]
  },
  {
   "cell_type": "code",
   "execution_count": 146,
   "id": "ac1b7ba8-b86d-4583-9141-bdb071852ef9",
   "metadata": {
    "tags": []
   },
   "outputs": [
    {
     "data": {
      "text/plain": [
       "<function matplotlib.pyplot.show(close=None, block=None)>"
      ]
     },
     "execution_count": 146,
     "metadata": {},
     "output_type": "execute_result"
    },
    {
     "data": {
      "image/png": "[encoded data removed]",
      "text/plain": [
       "<Figure size 640x480 with 1 Axes>"
      ]
     },
     "metadata": {},
     "output_type": "display_data"
    }
   ],
   "source": [
    "# histogram wagi z pięcioma binami\n",
    "plt.hist(df[\"Weight\"], bins=5, color=\"blue\", edgecolor=\"black\")\n",
    "plt.title(\"Histogram wagi w kilogramach\")\n",
    "plt.xlabel(\"Waga\")\n",
    "plt.ylabel(\"Liczba osób\")\n",
    "plt.show"
   ]
  },
  {
   "cell_type": "code",
   "execution_count": 160,
   "id": "837e28f5-03f8-4e20-9f61-74ad36ce5752",
   "metadata": {
    "tags": []
   },
   "outputs": [
    {
     "data": {
      "text/html": [
       "<div>\n",
       "<style scoped>\n",
       "    .dataframe tbody tr th:only-of-type {\n",
       "        vertical-align: middle;\n",
       "    }\n",
       "\n",
       "    .dataframe tbody tr th {\n",
       "        vertical-align: top;\n",
       "    }\n",
       "\n",
       "    .dataframe thead th {\n",
       "        text-align: right;\n",
       "    }\n",
       "</style>\n",
       "<table border=\"1\" class=\"dataframe\">\n",
       "  <thead>\n",
       "    <tr style=\"text-align: right;\">\n",
       "      <th></th>\n",
       "      <th>Gender</th>\n",
       "      <th>Height</th>\n",
       "      <th>Weight</th>\n",
       "    </tr>\n",
       "  </thead>\n",
       "  <tbody>\n",
       "    <tr>\n",
       "      <th>0</th>\n",
       "      <td>Male</td>\n",
       "      <td>187.571423</td>\n",
       "      <td>109.721106</td>\n",
       "    </tr>\n",
       "    <tr>\n",
       "      <th>1</th>\n",
       "      <td>Male</td>\n",
       "      <td>174.706036</td>\n",
       "      <td>73.622813</td>\n",
       "    </tr>\n",
       "    <tr>\n",
       "      <th>2</th>\n",
       "      <td>Male</td>\n",
       "      <td>188.239668</td>\n",
       "      <td>96.497656</td>\n",
       "    </tr>\n",
       "    <tr>\n",
       "      <th>3</th>\n",
       "      <td>Male</td>\n",
       "      <td>182.196685</td>\n",
       "      <td>99.809614</td>\n",
       "    </tr>\n",
       "    <tr>\n",
       "      <th>4</th>\n",
       "      <td>Male</td>\n",
       "      <td>177.499761</td>\n",
       "      <td>93.598722</td>\n",
       "    </tr>\n",
       "    <tr>\n",
       "      <th>...</th>\n",
       "      <td>...</td>\n",
       "      <td>...</td>\n",
       "      <td>...</td>\n",
       "    </tr>\n",
       "    <tr>\n",
       "      <th>9995</th>\n",
       "      <td>Female</td>\n",
       "      <td>168.078536</td>\n",
       "      <td>62.041227</td>\n",
       "    </tr>\n",
       "    <tr>\n",
       "      <th>9996</th>\n",
       "      <td>Female</td>\n",
       "      <td>170.350573</td>\n",
       "      <td>77.504400</td>\n",
       "    </tr>\n",
       "    <tr>\n",
       "      <th>9997</th>\n",
       "      <td>Female</td>\n",
       "      <td>162.224700</td>\n",
       "      <td>58.275441</td>\n",
       "    </tr>\n",
       "    <tr>\n",
       "      <th>9998</th>\n",
       "      <td>Female</td>\n",
       "      <td>175.346978</td>\n",
       "      <td>74.322247</td>\n",
       "    </tr>\n",
       "    <tr>\n",
       "      <th>9999</th>\n",
       "      <td>Female</td>\n",
       "      <td>157.338385</td>\n",
       "      <td>51.550380</td>\n",
       "    </tr>\n",
       "  </tbody>\n",
       "</table>\n",
       "<p>10000 rows × 3 columns</p>\n",
       "</div>"
      ],
      "text/plain": [
       "      Gender      Height      Weight\n",
       "0       Male  187.571423  109.721106\n",
       "1       Male  174.706036   73.622813\n",
       "2       Male  188.239668   96.497656\n",
       "3       Male  182.196685   99.809614\n",
       "4       Male  177.499761   93.598722\n",
       "...      ...         ...         ...\n",
       "9995  Female  168.078536   62.041227\n",
       "9996  Female  170.350573   77.504400\n",
       "9997  Female  162.224700   58.275441\n",
       "9998  Female  175.346978   74.322247\n",
       "9999  Female  157.338385   51.550380\n",
       "\n",
       "[10000 rows x 3 columns]"
      ]
     },
     "execution_count": 160,
     "metadata": {},
     "output_type": "execute_result"
    }
   ],
   "source": [
    "df"
   ]
  },
  {
   "cell_type": "code",
   "execution_count": 196,
   "id": "d3f6ab15-6a5d-4df4-822d-7946b1afdbed",
   "metadata": {
    "tags": []
   },
   "outputs": [],
   "source": [
    "# utworzenie kolumny BMI za pomocą wzoru\n",
    "df[\"BMI\"] = (df[\"Weight\"] / ((df[\"Height\"] / 100) ** 2))"
   ]
  },
  {
   "cell_type": "code",
   "execution_count": 198,
   "id": "d7d6ad72-275a-4d42-a393-cc9f85905ee3",
   "metadata": {
    "tags": []
   },
   "outputs": [
    {
     "data": {
      "text/html": [
       "<div>\n",
       "<style scoped>\n",
       "    .dataframe tbody tr th:only-of-type {\n",
       "        vertical-align: middle;\n",
       "    }\n",
       "\n",
       "    .dataframe tbody tr th {\n",
       "        vertical-align: top;\n",
       "    }\n",
       "\n",
       "    .dataframe thead th {\n",
       "        text-align: right;\n",
       "    }\n",
       "</style>\n",
       "<table border=\"1\" class=\"dataframe\">\n",
       "  <thead>\n",
       "    <tr style=\"text-align: right;\">\n",
       "      <th></th>\n",
       "      <th>Gender</th>\n",
       "      <th>Height</th>\n",
       "      <th>Weight</th>\n",
       "      <th>BMI</th>\n",
       "    </tr>\n",
       "  </thead>\n",
       "  <tbody>\n",
       "    <tr>\n",
       "      <th>0</th>\n",
       "      <td>Male</td>\n",
       "      <td>187.571423</td>\n",
       "      <td>109.721106</td>\n",
       "      <td>31.185796</td>\n",
       "    </tr>\n",
       "    <tr>\n",
       "      <th>1</th>\n",
       "      <td>Male</td>\n",
       "      <td>174.706036</td>\n",
       "      <td>73.622813</td>\n",
       "      <td>24.121071</td>\n",
       "    </tr>\n",
       "    <tr>\n",
       "      <th>2</th>\n",
       "      <td>Male</td>\n",
       "      <td>188.239668</td>\n",
       "      <td>96.497656</td>\n",
       "      <td>27.232936</td>\n",
       "    </tr>\n",
       "    <tr>\n",
       "      <th>3</th>\n",
       "      <td>Male</td>\n",
       "      <td>182.196685</td>\n",
       "      <td>99.809614</td>\n",
       "      <td>30.067092</td>\n",
       "    </tr>\n",
       "    <tr>\n",
       "      <th>4</th>\n",
       "      <td>Male</td>\n",
       "      <td>177.499761</td>\n",
       "      <td>93.598722</td>\n",
       "      <td>29.708065</td>\n",
       "    </tr>\n",
       "    <tr>\n",
       "      <th>...</th>\n",
       "      <td>...</td>\n",
       "      <td>...</td>\n",
       "      <td>...</td>\n",
       "      <td>...</td>\n",
       "    </tr>\n",
       "    <tr>\n",
       "      <th>9995</th>\n",
       "      <td>Female</td>\n",
       "      <td>168.078536</td>\n",
       "      <td>62.041227</td>\n",
       "      <td>21.961190</td>\n",
       "    </tr>\n",
       "    <tr>\n",
       "      <th>9996</th>\n",
       "      <td>Female</td>\n",
       "      <td>170.350573</td>\n",
       "      <td>77.504400</td>\n",
       "      <td>26.707864</td>\n",
       "    </tr>\n",
       "    <tr>\n",
       "      <th>9997</th>\n",
       "      <td>Female</td>\n",
       "      <td>162.224700</td>\n",
       "      <td>58.275441</td>\n",
       "      <td>22.143772</td>\n",
       "    </tr>\n",
       "    <tr>\n",
       "      <th>9998</th>\n",
       "      <td>Female</td>\n",
       "      <td>175.346978</td>\n",
       "      <td>74.322247</td>\n",
       "      <td>24.172539</td>\n",
       "    </tr>\n",
       "    <tr>\n",
       "      <th>9999</th>\n",
       "      <td>Female</td>\n",
       "      <td>157.338385</td>\n",
       "      <td>51.550380</td>\n",
       "      <td>20.823921</td>\n",
       "    </tr>\n",
       "  </tbody>\n",
       "</table>\n",
       "<p>10000 rows × 4 columns</p>\n",
       "</div>"
      ],
      "text/plain": [
       "      Gender      Height      Weight        BMI\n",
       "0       Male  187.571423  109.721106  31.185796\n",
       "1       Male  174.706036   73.622813  24.121071\n",
       "2       Male  188.239668   96.497656  27.232936\n",
       "3       Male  182.196685   99.809614  30.067092\n",
       "4       Male  177.499761   93.598722  29.708065\n",
       "...      ...         ...         ...        ...\n",
       "9995  Female  168.078536   62.041227  21.961190\n",
       "9996  Female  170.350573   77.504400  26.707864\n",
       "9997  Female  162.224700   58.275441  22.143772\n",
       "9998  Female  175.346978   74.322247  24.172539\n",
       "9999  Female  157.338385   51.550380  20.823921\n",
       "\n",
       "[10000 rows x 4 columns]"
      ]
     },
     "execution_count": 198,
     "metadata": {},
     "output_type": "execute_result"
    }
   ],
   "source": [
    "df"
   ]
  },
  {
   "cell_type": "code",
   "execution_count": 214,
   "id": "bc18480a-5ae4-476a-a123-b44e83612a8e",
   "metadata": {
    "tags": []
   },
   "outputs": [
    {
     "data": {
      "text/plain": [
       "1341"
      ]
     },
     "execution_count": 214,
     "metadata": {},
     "output_type": "execute_result"
    }
   ],
   "source": [
    "# ustalenie zmiennej, która wskazuje osoby ze wzrostem > 180, następnie wywołanie liczby tych wierszy\n",
    "high = df[df.Height >= 180]\n",
    "high.shape[0]"
   ]
  },
  {
   "cell_type": "code",
   "execution_count": 234,
   "id": "fe3e1aa3-c185-46ff-a263-9be006ff06bc",
   "metadata": {
    "tags": []
   },
   "outputs": [
    {
     "name": "stdout",
     "output_type": "stream",
     "text": [
      "Prawdopodobieństwo, że osoba ma nadwagę wynosi:  0.5589\n"
     ]
    }
   ],
   "source": [
    "# utworzenie nowej kolumny która sprawdza czy dana osoba ma nadwagę (true/false)\n",
    "df[\"Overweight\"] = df[\"BMI\"].apply(lambda x: 25 <= x < 30)\n",
    "# obliczenie prawdopodobieństwa czy osoba z bazy ma nadwagę\n",
    "probability_overweight = df[\"Overweight\"].mean()\n",
    "print(\"Prawdopodobieństwo, że osoba ma nadwagę wynosi: \", probability_overweight)"
   ]
  },
  {
   "cell_type": "code",
   "execution_count": 331,
   "id": "f144b7e8-2f8c-464d-8b68-fbc33cec5b54",
   "metadata": {
    "tags": []
   },
   "outputs": [
    {
     "data": {
      "text/html": [
       "<div>\n",
       "<style scoped>\n",
       "    .dataframe tbody tr th:only-of-type {\n",
       "        vertical-align: middle;\n",
       "    }\n",
       "\n",
       "    .dataframe tbody tr th {\n",
       "        vertical-align: top;\n",
       "    }\n",
       "\n",
       "    .dataframe thead th {\n",
       "        text-align: right;\n",
       "    }\n",
       "</style>\n",
       "<table border=\"1\" class=\"dataframe\">\n",
       "  <thead>\n",
       "    <tr style=\"text-align: right;\">\n",
       "      <th></th>\n",
       "      <th>currency</th>\n",
       "      <th>code</th>\n",
       "      <th>mid</th>\n",
       "    </tr>\n",
       "  </thead>\n",
       "  <tbody>\n",
       "    <tr>\n",
       "      <th>0</th>\n",
       "      <td>bat (Tajlandia)</td>\n",
       "      <td>THB</td>\n",
       "      <td>0.108800</td>\n",
       "    </tr>\n",
       "    <tr>\n",
       "      <th>1</th>\n",
       "      <td>dolar amerykański</td>\n",
       "      <td>USD</td>\n",
       "      <td>4.034100</td>\n",
       "    </tr>\n",
       "    <tr>\n",
       "      <th>2</th>\n",
       "      <td>dolar australijski</td>\n",
       "      <td>AUD</td>\n",
       "      <td>2.633100</td>\n",
       "    </tr>\n",
       "    <tr>\n",
       "      <th>3</th>\n",
       "      <td>dolar Hongkongu</td>\n",
       "      <td>HKD</td>\n",
       "      <td>0.515900</td>\n",
       "    </tr>\n",
       "    <tr>\n",
       "      <th>4</th>\n",
       "      <td>dolar kanadyjski</td>\n",
       "      <td>CAD</td>\n",
       "      <td>2.945600</td>\n",
       "    </tr>\n",
       "    <tr>\n",
       "      <th>5</th>\n",
       "      <td>dolar nowozelandzki</td>\n",
       "      <td>NZD</td>\n",
       "      <td>2.397500</td>\n",
       "    </tr>\n",
       "    <tr>\n",
       "      <th>6</th>\n",
       "      <td>dolar singapurski</td>\n",
       "      <td>SGD</td>\n",
       "      <td>2.962600</td>\n",
       "    </tr>\n",
       "    <tr>\n",
       "      <th>7</th>\n",
       "      <td>euro</td>\n",
       "      <td>EUR</td>\n",
       "      <td>4.321300</td>\n",
       "    </tr>\n",
       "    <tr>\n",
       "      <th>8</th>\n",
       "      <td>forint (Węgry)</td>\n",
       "      <td>HUF</td>\n",
       "      <td>0.011048</td>\n",
       "    </tr>\n",
       "    <tr>\n",
       "      <th>9</th>\n",
       "      <td>frank szwajcarski</td>\n",
       "      <td>CHF</td>\n",
       "      <td>4.421700</td>\n",
       "    </tr>\n",
       "    <tr>\n",
       "      <th>10</th>\n",
       "      <td>funt szterling</td>\n",
       "      <td>GBP</td>\n",
       "      <td>5.059800</td>\n",
       "    </tr>\n",
       "    <tr>\n",
       "      <th>11</th>\n",
       "      <td>hrywna (Ukraina)</td>\n",
       "      <td>UAH</td>\n",
       "      <td>0.102100</td>\n",
       "    </tr>\n",
       "    <tr>\n",
       "      <th>12</th>\n",
       "      <td>jen (Japonia)</td>\n",
       "      <td>JPY</td>\n",
       "      <td>0.025722</td>\n",
       "    </tr>\n",
       "    <tr>\n",
       "      <th>13</th>\n",
       "      <td>korona czeska</td>\n",
       "      <td>CZK</td>\n",
       "      <td>0.171700</td>\n",
       "    </tr>\n",
       "    <tr>\n",
       "      <th>14</th>\n",
       "      <td>korona duńska</td>\n",
       "      <td>DKK</td>\n",
       "      <td>0.579400</td>\n",
       "    </tr>\n",
       "    <tr>\n",
       "      <th>15</th>\n",
       "      <td>korona islandzka</td>\n",
       "      <td>ISK</td>\n",
       "      <td>0.028751</td>\n",
       "    </tr>\n",
       "    <tr>\n",
       "      <th>16</th>\n",
       "      <td>korona norweska</td>\n",
       "      <td>NOK</td>\n",
       "      <td>0.366000</td>\n",
       "    </tr>\n",
       "    <tr>\n",
       "      <th>17</th>\n",
       "      <td>korona szwedzka</td>\n",
       "      <td>SEK</td>\n",
       "      <td>0.367200</td>\n",
       "    </tr>\n",
       "    <tr>\n",
       "      <th>18</th>\n",
       "      <td>lej rumuński</td>\n",
       "      <td>RON</td>\n",
       "      <td>0.868400</td>\n",
       "    </tr>\n",
       "    <tr>\n",
       "      <th>19</th>\n",
       "      <td>lew (Bułgaria)</td>\n",
       "      <td>BGN</td>\n",
       "      <td>2.209400</td>\n",
       "    </tr>\n",
       "    <tr>\n",
       "      <th>20</th>\n",
       "      <td>lira turecka</td>\n",
       "      <td>TRY</td>\n",
       "      <td>0.124900</td>\n",
       "    </tr>\n",
       "    <tr>\n",
       "      <th>21</th>\n",
       "      <td>nowy izraelski szekel</td>\n",
       "      <td>ILS</td>\n",
       "      <td>1.078200</td>\n",
       "    </tr>\n",
       "    <tr>\n",
       "      <th>22</th>\n",
       "      <td>peso chilijskie</td>\n",
       "      <td>CLP</td>\n",
       "      <td>0.004283</td>\n",
       "    </tr>\n",
       "    <tr>\n",
       "      <th>23</th>\n",
       "      <td>peso filipińskie</td>\n",
       "      <td>PHP</td>\n",
       "      <td>0.069800</td>\n",
       "    </tr>\n",
       "    <tr>\n",
       "      <th>24</th>\n",
       "      <td>peso meksykańskie</td>\n",
       "      <td>MXN</td>\n",
       "      <td>0.237200</td>\n",
       "    </tr>\n",
       "    <tr>\n",
       "      <th>25</th>\n",
       "      <td>rand (Republika Południowej Afryki)</td>\n",
       "      <td>ZAR</td>\n",
       "      <td>0.215600</td>\n",
       "    </tr>\n",
       "    <tr>\n",
       "      <th>26</th>\n",
       "      <td>real (Brazylia)</td>\n",
       "      <td>BRL</td>\n",
       "      <td>0.788200</td>\n",
       "    </tr>\n",
       "    <tr>\n",
       "      <th>27</th>\n",
       "      <td>ringgit (Malezja)</td>\n",
       "      <td>MYR</td>\n",
       "      <td>0.845700</td>\n",
       "    </tr>\n",
       "    <tr>\n",
       "      <th>28</th>\n",
       "      <td>rupia indonezyjska</td>\n",
       "      <td>IDR</td>\n",
       "      <td>0.000248</td>\n",
       "    </tr>\n",
       "    <tr>\n",
       "      <th>29</th>\n",
       "      <td>rupia indyjska</td>\n",
       "      <td>INR</td>\n",
       "      <td>0.048325</td>\n",
       "    </tr>\n",
       "    <tr>\n",
       "      <th>30</th>\n",
       "      <td>won południowokoreański</td>\n",
       "      <td>KRW</td>\n",
       "      <td>0.002921</td>\n",
       "    </tr>\n",
       "    <tr>\n",
       "      <th>31</th>\n",
       "      <td>yuan renminbi (Chiny)</td>\n",
       "      <td>CNY</td>\n",
       "      <td>0.557100</td>\n",
       "    </tr>\n",
       "    <tr>\n",
       "      <th>32</th>\n",
       "      <td>SDR (MFW)</td>\n",
       "      <td>XDR</td>\n",
       "      <td>5.312900</td>\n",
       "    </tr>\n",
       "  </tbody>\n",
       "</table>\n",
       "</div>"
      ],
      "text/plain": [
       "                               currency code       mid\n",
       "0                       bat (Tajlandia)  THB  0.108800\n",
       "1                     dolar amerykański  USD  4.034100\n",
       "2                    dolar australijski  AUD  2.633100\n",
       "3                       dolar Hongkongu  HKD  0.515900\n",
       "4                      dolar kanadyjski  CAD  2.945600\n",
       "5                   dolar nowozelandzki  NZD  2.397500\n",
       "6                     dolar singapurski  SGD  2.962600\n",
       "7                                  euro  EUR  4.321300\n",
       "8                        forint (Węgry)  HUF  0.011048\n",
       "9                     frank szwajcarski  CHF  4.421700\n",
       "10                       funt szterling  GBP  5.059800\n",
       "11                     hrywna (Ukraina)  UAH  0.102100\n",
       "12                        jen (Japonia)  JPY  0.025722\n",
       "13                        korona czeska  CZK  0.171700\n",
       "14                        korona duńska  DKK  0.579400\n",
       "15                     korona islandzka  ISK  0.028751\n",
       "16                      korona norweska  NOK  0.366000\n",
       "17                      korona szwedzka  SEK  0.367200\n",
       "18                         lej rumuński  RON  0.868400\n",
       "19                       lew (Bułgaria)  BGN  2.209400\n",
       "20                         lira turecka  TRY  0.124900\n",
       "21                nowy izraelski szekel  ILS  1.078200\n",
       "22                      peso chilijskie  CLP  0.004283\n",
       "23                     peso filipińskie  PHP  0.069800\n",
       "24                    peso meksykańskie  MXN  0.237200\n",
       "25  rand (Republika Południowej Afryki)  ZAR  0.215600\n",
       "26                      real (Brazylia)  BRL  0.788200\n",
       "27                    ringgit (Malezja)  MYR  0.845700\n",
       "28                   rupia indonezyjska  IDR  0.000248\n",
       "29                       rupia indyjska  INR  0.048325\n",
       "30              won południowokoreański  KRW  0.002921\n",
       "31                yuan renminbi (Chiny)  CNY  0.557100\n",
       "32                            SDR (MFW)  XDR  5.312900"
      ]
     },
     "execution_count": 331,
     "metadata": {},
     "output_type": "execute_result"
    }
   ],
   "source": [
    "# wgranie danych z API narodowego Banku Polskiego\n",
    "import requests\n",
    "body = requests.get('http://api.nbp.pl/api/exchangerates/tables/A')\n",
    "df = body.json()\n",
    "# podajemy przykład danych\n",
    "data = df[0]['rates']\n",
    "# tworzymy DataFrame\n",
    "df = pd.DataFrame(data)\n",
    "df"
   ]
  },
  {
   "cell_type": "code",
   "execution_count": 440,
   "id": "4daac5e5-c165-4ed7-9644-85c1cabc746b",
   "metadata": {
    "tags": []
   },
   "outputs": [
    {
     "data": {
      "image/png": "[encoded data removed]",
      "text/plain": [
       "<Figure size 1200x500 with 1 Axes>"
      ]
     },
     "metadata": {},
     "output_type": "display_data"
    }
   ],
   "source": [
    "# wgranie danych z API narodowego Banku Polskiego\n",
    "import requests\n",
    "response = requests.get('http://api.nbp.pl/api/cenyzlota/last/50/?format=json')\n",
    "data = response.json()\n",
    "df = pd.DataFrame(data)\n",
    "df\n",
    "\n",
    "# stworzenie wykresu z wahaniami cen złota z ostatnich 50 rekordów\n",
    "import matplotlib.pyplot as plt\n",
    "plt.figure(figsize=(12,5))\n",
    "plt.plot(df[\"data\"], df[\"cena\"], color='green', marker='o')\n",
    "plt.title('Wahania cen złota - ostatnie 50 rekordów')\n",
    "plt.xlabel('Data')\n",
    "plt.ylabel('Cena złota (PLN)')\n",
    "plt.grid(True)\n",
    "plt.xticks(rotation=70)\n",
    "plt.tight_layout()\n",
    "# wyznaczenie najwyższej ceny złota\n",
    "max_value = df[\"cena\"].max()\n",
    "max_date = df[df['cena'] == max_value]['data'].iloc[0]\n",
    "# zaznaczenie maksimum czerwonym kolorem\n",
    "plt.scatter(max_date, max_value, color='red')\n",
    "# Dodanie tekstu przy punkcie maksymalnym\n",
    "plt.text(max_date, max_value, f'{max_value}', fontsize=12, verticalalignment='bottom')\n",
    "plt.show()\n",
    "\n"
   ]
  },
  {
   "cell_type": "code",
   "execution_count": 176,
   "id": "ee0b3986-9a4f-4200-8a23-3f57a14800ce",
   "metadata": {},
   "outputs": [
    {
     "data": {
      "image/png": "[encoded data removed]",
      "text/plain": [
       "<Figure size 1000x600 with 1 Axes>"
      ]
     },
     "metadata": {},
     "output_type": "display_data"
    }
   ],
   "source": [
    "import numpy as np\n",
    "import matplotlib.pyplot as plt\n",
    "\n",
    "# Parametry rozkładów\n",
    "mus = [0, 0, 0, -2]  # średnie\n",
    "sigmas = [0.2, 1.0, 5.0, 0.5]  # odchylenia standardowe\n",
    "colors = ['blue', 'red', 'orange', 'green']  # kolory dla różnych rozkładów\n",
    "labels = [\n",
    "    f'mu={mus[0]}, sigma={sigmas[0]}',\n",
    "    f'mu={mus[1]}, sigma={sigmas[1]}',\n",
    "    f'mu={mus[2]}, sigma={sigmas[2]}',\n",
    "    f'mu={mus[3]}, sigma={sigmas[3]}'\n",
    "]\n",
    "\n",
    "# Generowanie danych\n",
    "samples = [np.random.normal(mu, sigma, 1000) for mu, sigma in zip(mus, sigmas)]\n",
    "\n",
    "plt.figure(figsize=(10, 6))\n",
    "\n",
    "\n",
    "# Tworzenie histogramów dla każdego zestawu danych\n",
    "for sample, color, label in zip(samples, colors, labels):\n",
    "    plt.hist(sample, bins=30, alpha=0.5, color=color, label=label, density=True)\n",
    "\n",
    "plt.title('Porównanie rozkładów normalnych')\n",
    "plt.xlabel('Wartość')\n",
    "plt.ylabel('Gęstość prawdopodobieństwa')\n",
    "plt.legend()\n",
    "plt.grid(True)\n",
    "plt.show()"
   ]
  },
  {
   "cell_type": "code",
   "execution_count": 253,
   "id": "d42f49a9-bfb1-4538-a1cc-11d534400e3c",
   "metadata": {
    "tags": []
   },
   "outputs": [
    {
     "data": {
      "image/png": "[encoded data removed]",
      "text/plain": [
       "<Figure size 1000x600 with 1 Axes>"
      ]
     },
     "metadata": {},
     "output_type": "display_data"
    }
   ],
   "source": [
    "import numpy as np\n",
    "import matplotlib.pyplot as plt\n",
    "\n",
    "d1s = [1, 2, 5, 10, 100]\n",
    "d2s = [1, 1, 2, 1, 100]\n",
    "colors = ['red', 'black', 'blue', 'green', 'grey']\n",
    "labels = [\n",
    "    f'd1={d1s[0]}, d2={d2s[0]}',\n",
    "    f'd1={d1s[1]}, d2={d2s[1]}',\n",
    "    f'd1={d1s[2]}, d2={d2s[2]}',\n",
    "    f'd1={d1s[3]}, d2={d2s[3]}',\n",
    "    f'd1={d1s[4]}, d2={d2s[4]}' \n",
    "]\n",
    "\n",
    "samples = [np.random.f(d1, d2, 1000) for d1, d2 in zip(d1s, d2s)]\n",
    "\n",
    "plt.figure(figsize=(10, 6))\n",
    "\n",
    "for sample, color, label in zip(samples, colors, labels):\n",
    "    plt.hist(sample, bins=30, alpha=0.5, color=color, label=label, density=True)\n",
    "\n",
    "plt.title(\"Porównanie rozkładów F-Snedeocera\")\n",
    "plt.xlabel(\"Wartość\")\n",
    "plt.ylabel(\"Gęstość prawdopodobieństwa\")\n",
    "plt.legend()\n",
    "plt.grid(True)\n",
    "plt.show()\n"
   ]
  },
  {
   "cell_type": "code",
   "execution_count": 255,
   "id": "9c2870d9-7a67-4d8e-aecc-0d7dba1d68b0",
   "metadata": {
    "tags": []
   },
   "outputs": [
    {
     "ename": "AttributeError",
     "evalue": "'list' object has no attribute 'type'",
     "output_type": "error",
     "traceback": [
      "\u001b[1;31m---------------------------------------------------------------------------\u001b[0m",
      "\u001b[1;31mAttributeError\u001b[0m                            Traceback (most recent call last)",
      "Cell \u001b[1;32mIn[255], line 3\u001b[0m\n\u001b[0;32m      1\u001b[0m \u001b[38;5;28;01mimport\u001b[39;00m \u001b[38;5;21;01mnumpy\u001b[39;00m \u001b[38;5;28;01mas\u001b[39;00m \u001b[38;5;21;01mnp\u001b[39;00m\n\u001b[0;32m      2\u001b[0m \u001b[38;5;28;01mimport\u001b[39;00m \u001b[38;5;21;01mmatplotlib\u001b[39;00m\u001b[38;5;21;01m.\u001b[39;00m\u001b[38;5;21;01mpyplot\u001b[39;00m \u001b[38;5;28;01mas\u001b[39;00m \u001b[38;5;21;01mplt\u001b[39;00m\n\u001b[1;32m----> 3\u001b[0m lambdas\u001b[38;5;241m.\u001b[39mtype()\n\u001b[0;32m      4\u001b[0m lambdas \u001b[38;5;241m=\u001b[39m [\u001b[38;5;241m1\u001b[39m, \u001b[38;5;241m4\u001b[39m, \u001b[38;5;241m10\u001b[39m]\n\u001b[0;32m      5\u001b[0m colors \u001b[38;5;241m=\u001b[39m [\u001b[38;5;124m'\u001b[39m\u001b[38;5;124mred\u001b[39m\u001b[38;5;124m'\u001b[39m, \u001b[38;5;124m'\u001b[39m\u001b[38;5;124mgreen\u001b[39m\u001b[38;5;124m'\u001b[39m, \u001b[38;5;124m'\u001b[39m\u001b[38;5;124mblack\u001b[39m\u001b[38;5;124m'\u001b[39m]\n",
      "\u001b[1;31mAttributeError\u001b[0m: 'list' object has no attribute 'type'"
     ]
    }
   ],
   "source": [
    "import numpy as np\n",
    "import matplotlib.pyplot as plt\n",
    "\n",
    "lambdas = [1, 4, 10]\n",
    "colors = ['red', 'green', 'black']\n",
    "labels = [\n",
    "    f'l={lambdas[0]}',\n",
    "    f'l={lambdas[1]}',\n",
    "    f'l={lambdas[2]}'\n",
    "]\n",
    "\n",
    "samples = [np.random.poisson(l, 1000) for l in lambdas]\n",
    "\n",
    "plt.figure(figsize=(10,6))\n",
    "\n",
    "for sample, color, label in zip(samples, colors, labels):\n",
    "    plt.hist(sample, bins=20, alpha=0.5, color=color, label=label, density=True)\n",
    "    \n",
    "plt.title(\"Porównanie rozkładów Poissona\")\n",
    "plt.xlabel(\"Wartość\")\n",
    "plt.ylabel(\"Gęstość prawdopodobieństwa\")\n",
    "plt.legend()\n",
    "plt.grid(True)\n",
    "plt.show()"
   ]
  },
  {
   "cell_type": "code",
   "execution_count": 257,
   "id": "4c45b255-10bb-40f3-9566-a97c53376b00",
   "metadata": {
    "tags": []
   },
   "outputs": [
    {
     "data": {
      "text/plain": [
       "list"
      ]
     },
     "execution_count": 257,
     "metadata": {},
     "output_type": "execute_result"
    }
   ],
   "source": []
  },
  {
   "cell_type": "code",
   "execution_count": null,
   "id": "abd55690-52f3-43d3-9a12-c35ab9fe888b",
   "metadata": {},
   "outputs": [],
   "source": []
  }
 ],
 "metadata": {
  "kernelspec": {
   "display_name": "Python 3 (ipykernel)",
   "language": "python",
   "name": "python3"
  },
  "language_info": {
   "codemirror_mode": {
    "name": "ipython",
    "version": 3
   },
   "file_extension": ".py",
   "mimetype": "text/x-python",
   "name": "python",
   "nbconvert_exporter": "python",
   "pygments_lexer": "ipython3",
   "version": "3.11.7"
  }
 },
 "nbformat": 4,
 "nbformat_minor": 5
}
